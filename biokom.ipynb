{
 "cells": [
  {
   "cell_type": "code",
   "execution_count": 1,
   "metadata": {},
   "outputs": [],
   "source": [
    "#inisialisasi variabel\n",
    "patientInfo = []\n",
    "male = \"Laki-Laki\"\n",
    "female = \"Perempuan\"\n",
    "yes = \"ya\"\n",
    "no = \"tidak\""
   ]
  },
  {
   "cell_type": "code",
   "execution_count": 2,
   "metadata": {},
   "outputs": [],
   "source": [
    "#method untuk mengeluarkan  output bronkitis\n",
    "def bronkitis():\n",
    "    print(\"Nama Pasien: \", patientInfo[0])\n",
    "    print(\"\\nJenis Kelamin: \", patientInfo[1])\n",
    "    print(\"\\nAnda Diwajibkan Melakukan Langkah Pemeriksaan Bronkitis\")"
   ]
  },
  {
   "cell_type": "code",
   "execution_count": 3,
   "metadata": {},
   "outputs": [],
   "source": [
    "#method untuk mengeluarkan output covid\n",
    "def covid(condition):\n",
    "    if condition == \"iya\".casefold():\n",
    "        print(\"Nama Pasien: \", patientInfo[0])\n",
    "        print(\"\\nJenis Kelamin: \", patientInfo[1])\n",
    "        print(\"\\nAnda Diwajibkan Melakukan Swab\")\n",
    "    elif condition == \"tidak\".casefold():\n",
    "        print(\"Nama Pasien: \", patientInfo[0])\n",
    "        print(\"\\nJenis Kelamin: \", patientInfo[1])\n",
    "        print(\"\\nAnda Diwajibkan Melakukan Langkah Pemeriksaan Bronkitis\")"
   ]
  },
  {
   "cell_type": "code",
   "execution_count": 5,
   "metadata": {},
   "outputs": [],
   "source": [
    "#method melakukan pengecekan kondisi\n",
    "def checkCondition():\n",
    "    # check first condition\n",
    "    while True:\n",
    "        firstCon = str(input(\"Apakah Anda Mengalami Demam? [ya/tidak]\")).capitalize()\n",
    "        if firstCon == yes.capitalize() or firstCon == no.capitalize():\n",
    "            break\n",
    "        else:\n",
    "            print(\"Input salah, silahkan masukkan ya atau tidak\")\n",
    "    \n",
    "    # check second condition\n",
    "    while True:\n",
    "        secCon = str(input(\"Apakah Anda Mengalami Batuk? [ya/tidak]\")).capitalize()\n",
    "        if secCon == yes.capitalize() or secCon == no.capitalize():\n",
    "            break\n",
    "        else:\n",
    "            print(\"Input salah, silahkan masukkan ya atau tidak\")\n",
    "    \n",
    "    # check third condition\n",
    "    while True:\n",
    "        thirdCon = str(input(\"Apakah Anda Mengalami Nyeri Dada? [ya/tidak]\")).capitalize()\n",
    "        if thirdCon == yes.capitalize() or thirdCon == no.capitalize():\n",
    "            break\n",
    "        else:\n",
    "            print(\"Input salah, silahkan masukkan ya atau tidak\")\n",
    "\n",
    "    # check fourth condition\n",
    "    while True:\n",
    "        fourthCon = str(input(\"Apakah Anda Mengalami Gejala Mual Muntah? [ya/tidak]\")).capitalize()\n",
    "        if fourthCon == yes.capitalize() or fourthCon == no.capitalize():\n",
    "            break\n",
    "        else:\n",
    "            print(\"Input salah, silahkan masukkan ya atau tidak\")\n",
    "    \n",
    "    # check fifth condition\n",
    "    while True:\n",
    "        fifthCon = str(input(\"Apakah Anda Mengalami Kelelahan? [ya/tidak]\")).capitalize()\n",
    "        if fifthCon == yes.capitalize() or fifthCon == no.capitalize():\n",
    "            break\n",
    "        else:\n",
    "            print(\"Input salah, silahkan masukkan ya atau tidak\")\n",
    "    \n",
    "    # check sixth condition\n",
    "    while True:\n",
    "        sixthCon = str(input(\"Apakah Anda Mengalami KGB Membengkak? [ya/tidak]\")).capitalize()\n",
    "        if sixthCon == yes.capitalize() or sixthCon == no.capitalize():\n",
    "            break\n",
    "        else:\n",
    "            print(\"Input salah, silahkan masukkan ya atau tidak\")\n",
    "    \n",
    "    if firstCon == yes.capitalize() and secCon == yes.capitalize() and thirdCon == yes.capitalize()  and fourthCon == yes.capitalize()  and fifthCon == yes.capitalize()  and sixthCon == yes.capitalize() :\n",
    "        # check seventh condition\n",
    "        while True:\n",
    "            sevCon = str(input(\"Apakah Anda Pernah Kontak Dengan Pasien Covid? [ya/tidak]\")).capitalize()\n",
    "            if sevCon == yes.capitalize():\n",
    "                covid(\"iya\")\n",
    "                break\n",
    "            elif sevCon == no.capitalize():\n",
    "                covid(\"tidak\")\n",
    "                break\n",
    "            else:\n",
    "                print(\"Input salah, silahkan masukkan ya atau tidak\")\n",
    "    else :\n",
    "        bronkitis()"
   ]
  },
  {
   "cell_type": "code",
   "execution_count": 6,
   "metadata": {},
   "outputs": [
    {
     "name": "stdout",
     "output_type": "stream",
     "text": [
      "Selamat Datang!\n",
      "\n",
      "Anda Salah Memasukkan Jenis Kelamin, Masukkan Perempuan atau Laki-Laki\n",
      "Input salah, silahkan masukkan ya atau tidak\n",
      "Nama Pasien:  Yusuf Gladiensyah\n",
      "\n",
      "Jenis Kelamin:  Laki-Laki\n",
      "\n",
      "Anda Diwajibkan Melakukan Langkah Pemeriksaan Bronkitis\n"
     ]
    }
   ],
   "source": [
    "#method main\n",
    "if __name__ == \"__main__\":\n",
    "    print(\"Selamat Datang!\")\n",
    "    name = str(input(\"Masukkan Nama Anda: \")).title()\n",
    "    while True:\n",
    "        gender = str(input(\"\\nMasukkan Jenis Kelamin: \")).title()\n",
    "        if gender.casefold() == male.casefold() or gender.casefold() == female.casefold():\n",
    "            break\n",
    "        else:\n",
    "            print(\"\\nAnda Salah Memasukkan Jenis Kelamin, Masukkan Perempuan atau Laki-Laki\")\n",
    "    patientInfo.append(name)\n",
    "    patientInfo.append(gender)\n",
    "    checkCondition()"
   ]
  }
 ],
 "metadata": {
  "interpreter": {
   "hash": "aee8b7b246df8f9039afb4144a1f6fd8d2ca17a180786b69acc140d282b71a49"
  },
  "kernelspec": {
   "display_name": "Python 3.9.9 64-bit",
   "language": "python",
   "name": "python3"
  },
  "language_info": {
   "codemirror_mode": {
    "name": "ipython",
    "version": 3
   },
   "file_extension": ".py",
   "mimetype": "text/x-python",
   "name": "python",
   "nbconvert_exporter": "python",
   "pygments_lexer": "ipython3",
   "version": "3.9.9"
  },
  "orig_nbformat": 4
 },
 "nbformat": 4,
 "nbformat_minor": 2
}
